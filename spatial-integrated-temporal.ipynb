{
 "cells": [
  {
   "cell_type": "code",
   "execution_count": 1,
   "metadata": {},
   "outputs": [],
   "source": [
    "import numpy as np\n",
    "import math\n",
    "from skimage.transform import resize\n",
    "import scipy.ndimage\n",
    "\n",
    "def prepare_data(mat):\n",
    "    # Left footstep\n",
    "    dataL = mat['dataL']\n",
    "    # Right footstep\n",
    "    dataR = mat['dataR']  \n",
    "    return (dataL, dataR)\n",
    "\n",
    "def calGRF(data):\n",
    "    for i in range(len(data)):\n",
    "        data[i] += data[i-1]\n",
    "    return data\n",
    "\n",
    "def process_foot(data):\n",
    "    Tmax = 1600\n",
    "    data = data[:Tmax]    \n",
    "    grf = calGRF(data)\n",
    "    s_avg = data.mean(axis=1)\n",
    "    s_avg_max = np.max(s_avg)\n",
    "    s_avg /= s_avg_max\n",
    "    s_upper = np.amax(data,axis=1)\n",
    "    s_lower = np.amin(data,axis=1)\n",
    "    grf_t = grf.mean(axis=1)\n",
    "    grf_t_max = np.max(grf_t)\n",
    "    grf_t /= grf_t_max\n",
    "    processed = np.stack((s_avg,grf_t,s_upper,s_lower),axis=-1)\n",
    "    return processed \n",
    "\n",
    "def process_matlab(mat):\n",
    "    dataL, dataR = prepare_data(mat)\n",
    "    footL, footR = process_foot(dataL), process_foot(dataR)\n",
    "    processed = np.append(footL,footR,axis = 1)\n",
    "    return processed\n"
   ]
  },
  {
   "cell_type": "code",
   "execution_count": 2,
   "metadata": {},
   "outputs": [],
   "source": [
    "import pandas as pd\n",
    "import numpy as np\n",
    "import matplotlib.pyplot as plt\n",
    "%matplotlib inline\n",
    "import seaborn as sns\n",
    "import os\n",
    "import scipy.io\n",
    "import scipy.signal"
   ]
  },
  {
   "cell_type": "code",
   "execution_count": 3,
   "metadata": {},
   "outputs": [],
   "source": [
    "index_files_path = 'SFootBD/IndexFiles/'\n",
    "data_files_path = 'SFootBD/SFootBD/'\n",
    "\n",
    "train_list_file = index_files_path + 'LstTrain'\n",
    "imposter_list_file = index_files_path + 'LstImp'\n",
    "test_evaluation_list_file = index_files_path + 'LstTestEvaluation'\n",
    "test_validation_list_file = index_files_path + 'LstTestValidation'"
   ]
  },
  {
   "cell_type": "code",
   "execution_count": 4,
   "metadata": {},
   "outputs": [
    {
     "data": {
      "text/html": [
       "<div>\n",
       "<style scoped>\n",
       "    .dataframe tbody tr th:only-of-type {\n",
       "        vertical-align: middle;\n",
       "    }\n",
       "\n",
       "    .dataframe tbody tr th {\n",
       "        vertical-align: top;\n",
       "    }\n",
       "\n",
       "    .dataframe thead th {\n",
       "        text-align: right;\n",
       "    }\n",
       "</style>\n",
       "<table border=\"1\" class=\"dataframe\">\n",
       "  <thead>\n",
       "    <tr style=\"text-align: right;\">\n",
       "      <th></th>\n",
       "      <th>0</th>\n",
       "      <th>1</th>\n",
       "    </tr>\n",
       "  </thead>\n",
       "  <tbody>\n",
       "    <tr>\n",
       "      <th>0</th>\n",
       "      <td>15</td>\n",
       "      <td>2007-05-22_16-35-52_693</td>\n",
       "    </tr>\n",
       "    <tr>\n",
       "      <th>1</th>\n",
       "      <td>15</td>\n",
       "      <td>2007-05-22_16-24-39_584</td>\n",
       "    </tr>\n",
       "    <tr>\n",
       "      <th>2</th>\n",
       "      <td>15</td>\n",
       "      <td>2007-05-22_16-35-41_215</td>\n",
       "    </tr>\n",
       "    <tr>\n",
       "      <th>3</th>\n",
       "      <td>15</td>\n",
       "      <td>2007-05-22_16-24-29_028</td>\n",
       "    </tr>\n",
       "    <tr>\n",
       "      <th>4</th>\n",
       "      <td>15</td>\n",
       "      <td>2007-05-22_16-24-50_450</td>\n",
       "    </tr>\n",
       "  </tbody>\n",
       "</table>\n",
       "</div>"
      ],
      "text/plain": [
       "    0                        1\n",
       "0  15  2007-05-22_16-35-52_693\n",
       "1  15  2007-05-22_16-24-39_584\n",
       "2  15  2007-05-22_16-35-41_215\n",
       "3  15  2007-05-22_16-24-29_028\n",
       "4  15  2007-05-22_16-24-50_450"
      ]
     },
     "execution_count": 4,
     "metadata": {},
     "output_type": "execute_result"
    }
   ],
   "source": [
    "train_list = pd.read_csv(train_list_file, sep = ' ', header = None)\n",
    "\n",
    "train_list.head()"
   ]
  },
  {
   "cell_type": "code",
   "execution_count": 5,
   "metadata": {},
   "outputs": [],
   "source": [
    "mat_file = os.path.join(data_files_path, train_list[1][12] + '.mat')\n",
    "\n",
    "mat = scipy.io.loadmat(mat_file)"
   ]
  },
  {
   "cell_type": "code",
   "execution_count": 6,
   "metadata": {},
   "outputs": [],
   "source": [
    "spatio_temporal = process_matlab(mat)"
   ]
  },
  {
   "cell_type": "code",
   "execution_count": null,
   "metadata": {},
   "outputs": [],
   "source": []
  },
  {
   "cell_type": "code",
   "execution_count": null,
   "metadata": {},
   "outputs": [],
   "source": []
  }
 ],
 "metadata": {
  "kernelspec": {
   "display_name": "Python 3",
   "language": "python",
   "name": "python3"
  },
  "language_info": {
   "codemirror_mode": {
    "name": "ipython",
    "version": 3
   },
   "file_extension": ".py",
   "mimetype": "text/x-python",
   "name": "python",
   "nbconvert_exporter": "python",
   "pygments_lexer": "ipython3",
   "version": "3.6.4"
  }
 },
 "nbformat": 4,
 "nbformat_minor": 2
}
