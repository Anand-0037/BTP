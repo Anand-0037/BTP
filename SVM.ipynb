{
 "cells": [
  {
   "cell_type": "code",
   "execution_count": 1,
   "metadata": {},
   "outputs": [],
   "source": [
    "import numpy as np\n",
    "import math\n",
    "from skimage.transform import resize\n",
    "import scipy.ndimage\n",
    "import matplotlib.pyplot as plt\n",
    "\n",
    "# Downsample using order 8 Chebyshev type I filter\n",
    "def downsample(data):\n",
    "    return scipy.signal.decimate(data, 6, axis = 0)\n",
    "\n",
    "def prepare_data(mat):\n",
    "    # Left footstep\n",
    "    dataL = mat['dataL']\n",
    "    # Right footstep\n",
    "    dataR = mat['dataR']  \n",
    "    return (dataL, dataR)\n",
    "\n",
    "def calGRF(data):\n",
    "    return np.add.accumulate(data)\n",
    "\n",
    "def process_foot(data):\n",
    "    Tmax = 1600\n",
    "    data = data[:Tmax]\n",
    "    grf = calGRF(data)\n",
    "    s_avg = data.mean(axis = 1)\n",
    "    s_upper = np.max(data, axis = 1)\n",
    "    s_lower = np.min(data, axis = 1)\n",
    "    grf_t = grf.mean(axis = 1)\n",
    "    #s_range = s_upper - s_lower\n",
    "    #s_std = np.std(data, axis = 1)\n",
    "    #s_grad = np.gradient(s_avg)\n",
    "\n",
    "    processed = np.append(s_avg, [\n",
    "        grf_t,\n",
    "        s_upper,\n",
    "        s_lower,\n",
    "        #s_range,\n",
    "        #s_std,\n",
    "        #s_grad\n",
    "    ])\n",
    "        \n",
    "    return downsample(processed)\n",
    "\n",
    "def process_matlab(mat):\n",
    "    dataL, dataR = prepare_data(mat)\n",
    "    footL, footR = process_foot(dataL), process_foot(dataR)\n",
    "    #processed = np.append(footL, [footR, footL - footR])\n",
    "    processed = np.append(footL, footR)\n",
    "    return processed\n"
   ]
  },
  {
   "cell_type": "code",
   "execution_count": 2,
   "metadata": {},
   "outputs": [],
   "source": [
    "import pandas as pd\n",
    "import numpy as np\n",
    "import matplotlib.pyplot as plt\n",
    "%matplotlib inline\n",
    "import os\n",
    "import scipy.io\n",
    "import scipy.signal"
   ]
  },
  {
   "cell_type": "code",
   "execution_count": 3,
   "metadata": {},
   "outputs": [],
   "source": [
    "index_files_path = 'SFootBD/IndexFiles/'\n",
    "data_files_path = 'SFootBD/SFootBD/'\n",
    "\n",
    "train_list_file = index_files_path + 'LstTrain'\n",
    "imposter_list_file = index_files_path + 'LstImp'\n",
    "test_evaluation_list_file = index_files_path + 'LstTestEvaluation'\n",
    "test_validation_list_file = index_files_path + 'LstTestValidation'"
   ]
  },
  {
   "cell_type": "code",
   "execution_count": 4,
   "metadata": {},
   "outputs": [],
   "source": [
    "def load_features(filename):\n",
    "    mat_file = os.path.join(data_files_path, filename + '.mat')\n",
    "    mat = scipy.io.loadmat(mat_file)\n",
    "    return process_matlab(mat)\n",
    "\n",
    "def load_data_file(index_file):\n",
    "    return pd.read_csv(index_file, sep = ' ', header = None)\n",
    "\n",
    "def load_dataset(data_list, clients):    \n",
    "    X = []\n",
    "    y = []\n",
    "    \n",
    "    for item in data_list.itertuples():\n",
    "        X_item = load_features(item[2])\n",
    "        y_item = item[1]\n",
    "        \n",
    "        matches = np.where(clients == y_item)[0]\n",
    "        \n",
    "        X.append(X_item)\n",
    "        # clients.shape[0] becomes imposter class\n",
    "        y.append(matches[0] if matches.shape[0] != 0 else clients.shape[0])\n",
    "        \n",
    "    return np.array(X), np.array(y)"
   ]
  },
  {
   "cell_type": "code",
   "execution_count": 5,
   "metadata": {},
   "outputs": [],
   "source": [
    "train_index = load_data_file(train_list_file)"
   ]
  },
  {
   "cell_type": "code",
   "execution_count": 6,
   "metadata": {},
   "outputs": [
    {
     "data": {
      "text/plain": [
       "(array([ 15,  16,  17,  18,  19,  20,  21,  22,  23,  33,  34,  35,  37,\n",
       "         38,  40,  41,  43,  45,  47,  54,  65,  66,  70,  71,  72,  73,\n",
       "         74,  76,  94,  95, 124, 126, 132, 134, 135, 136, 137, 155, 160,\n",
       "        164], dtype=int64),\n",
       " array([40, 40, 40, 40, 40, 40, 40, 40, 40, 40, 40, 40, 40, 40, 40, 40, 40,\n",
       "        40, 40, 40, 40, 40, 40, 40, 40, 40, 40, 40, 40, 40, 40, 40, 40, 40,\n",
       "        40, 40, 40, 40, 40, 40], dtype=int64))"
      ]
     },
     "execution_count": 6,
     "metadata": {},
     "output_type": "execute_result"
    }
   ],
   "source": [
    "np.unique(train_index[0], return_counts=True)"
   ]
  },
  {
   "cell_type": "code",
   "execution_count": 7,
   "metadata": {},
   "outputs": [],
   "source": [
    "clients = np.unique(train_index[0])\n",
    "\n",
    "X_train, y_train = load_dataset(train_index, clients)"
   ]
  },
  {
   "cell_type": "code",
   "execution_count": 8,
   "metadata": {},
   "outputs": [
    {
     "data": {
      "text/plain": [
       "[<matplotlib.lines.Line2D at 0x23e337e1b70>]"
      ]
     },
     "execution_count": 8,
     "metadata": {},
     "output_type": "execute_result"
    },
    {
     "data": {
      "image/png": "[encoded data removed]",
      "text/plain": [
       "<Figure size 432x288 with 1 Axes>"
      ]
     },
     "metadata": {
      "needs_background": "light"
     },
     "output_type": "display_data"
    }
   ],
   "source": [
    "plt.plot(X_train[0])"
   ]
  },
  {
   "cell_type": "code",
   "execution_count": 9,
   "metadata": {},
   "outputs": [],
   "source": [
    "imposter_index = load_data_file(imposter_list_file)"
   ]
  },
  {
   "cell_type": "code",
   "execution_count": 10,
   "metadata": {},
   "outputs": [
    {
     "data": {
      "text/plain": [
       "(763, 2)"
      ]
     },
     "execution_count": 10,
     "metadata": {},
     "output_type": "execute_result"
    }
   ],
   "source": [
    "imposter_index.shape"
   ]
  },
  {
   "cell_type": "code",
   "execution_count": 11,
   "metadata": {},
   "outputs": [],
   "source": [
    "X_imposter, y_imposter = load_dataset(imposter_index, clients)\n",
    "\n",
    "X_train = np.append(X_train, X_imposter, axis = 0)\n",
    "y_train = np.append(y_train, y_imposter, axis = 0)"
   ]
  },
  {
   "cell_type": "code",
   "execution_count": 12,
   "metadata": {},
   "outputs": [],
   "source": [
    "val_index = load_data_file(test_validation_list_file)"
   ]
  },
  {
   "cell_type": "code",
   "execution_count": 13,
   "metadata": {},
   "outputs": [
    {
     "data": {
      "text/plain": [
       "(array([False,  True]), array([ 380, 6697], dtype=int64))"
      ]
     },
     "execution_count": 13,
     "metadata": {},
     "output_type": "execute_result"
    }
   ],
   "source": [
    "np.unique(np.isin(val_index[0], clients), return_counts=True)"
   ]
  },
  {
   "cell_type": "code",
   "execution_count": 14,
   "metadata": {},
   "outputs": [
    {
     "data": {
      "text/plain": [
       "(array([ 15,  16,  17,  18,  19,  20,  21,  22,  23,  33,  34,  35,  37,\n",
       "         38,  40,  41,  43,  45,  47,  54,  65,  66,  70,  71,  72,  73,\n",
       "         74,  76,  94,  95, 124, 126, 132, 134, 135, 136, 137, 155, 160,\n",
       "        164], dtype=int64),\n",
       " array([440, 499, 153, 131, 230,  50,  25,  36, 395, 339,  59, 178,  40,\n",
       "         18, 171, 272,  15, 180, 177,  11,  22, 106,  84,  16,  10,  52,\n",
       "        224,  50, 646, 557,  19,  15,  35, 614, 591,  41,  43, 112,  31,\n",
       "         10], dtype=int64))"
      ]
     },
     "execution_count": 14,
     "metadata": {},
     "output_type": "execute_result"
    }
   ],
   "source": [
    "np.unique(val_index[0][np.isin(val_index[0], clients)], return_counts=True)"
   ]
  },
  {
   "cell_type": "code",
   "execution_count": 15,
   "metadata": {},
   "outputs": [],
   "source": [
    "# Validation set is too big\n",
    "#X_val, y_val = load_dataset(val_index, clients)\n",
    "\n",
    "#X_train = np.append(X_train, X_val, axis = 0)\n",
    "#y_train = np.append(y_train, y_val, axis = 0)"
   ]
  },
  {
   "cell_type": "code",
   "execution_count": 16,
   "metadata": {},
   "outputs": [],
   "source": [
    "eval_index = load_data_file(test_evaluation_list_file)"
   ]
  },
  {
   "cell_type": "code",
   "execution_count": 17,
   "metadata": {},
   "outputs": [
    {
     "data": {
      "text/plain": [
       "(array([False,  True]), array([350, 200], dtype=int64))"
      ]
     },
     "execution_count": 17,
     "metadata": {},
     "output_type": "execute_result"
    }
   ],
   "source": [
    "np.unique(np.isin(eval_index[0], clients), return_counts=True)"
   ]
  },
  {
   "cell_type": "code",
   "execution_count": 18,
   "metadata": {},
   "outputs": [],
   "source": [
    "X_test, y_test = load_dataset(eval_index, clients)"
   ]
  },
  {
   "cell_type": "code",
   "execution_count": 12,
   "metadata": {},
   "outputs": [],
   "source": [
    "from sklearn.pipeline import Pipeline\n",
    "from sklearn.preprocessing import StandardScaler\n",
    "from sklearn.svm import SVC\n",
    "from sklearn.multiclass import OneVsRestClassifier\n",
    "#from sklearn.linear_model import SGDClassifier\n",
    "\n",
    "model = Pipeline([\n",
    "    (\"std_scaler\", StandardScaler()),\n",
    "    #(\"model\", OneVsRestClassifier(SVC(kernel='rbf')))\n",
    "    (\"model\", SVC(kernel='rbf', C=7, gamma=1))\n",
    "    #(\"model\", SGDClassifier())\n",
    "])"
   ]
  },
  {
   "cell_type": "code",
   "execution_count": 20,
   "metadata": {},
   "outputs": [],
   "source": [
    "#from sklearn.utils import shuffle\n",
    "#X_train, y_train = shuffle(X_train, y_train)"
   ]
  },
  {
   "cell_type": "code",
   "execution_count": 21,
   "metadata": {},
   "outputs": [
    {
     "data": {
      "text/plain": [
       "Pipeline(memory=None,\n",
       "         steps=[('std_scaler',\n",
       "                 StandardScaler(copy=True, with_mean=True, with_std=True)),\n",
       "                ('model',\n",
       "                 SVC(C=7, cache_size=200, class_weight=None, coef0=0.0,\n",
       "                     decision_function_shape='ovr', degree=3, gamma=1,\n",
       "                     kernel='rbf', max_iter=-1, probability=False,\n",
       "                     random_state=None, shrinking=True, tol=0.001,\n",
       "                     verbose=False))],\n",
       "         verbose=False)"
      ]
     },
     "execution_count": 21,
     "metadata": {},
     "output_type": "execute_result"
    }
   ],
   "source": [
    "model.fit(X_train, y_train)"
   ]
  },
  {
   "cell_type": "code",
   "execution_count": 22,
   "metadata": {},
   "outputs": [],
   "source": [
    "y_pred = model.predict(X_test)"
   ]
  },
  {
   "cell_type": "code",
   "execution_count": 23,
   "metadata": {},
   "outputs": [
    {
     "data": {
      "text/plain": [
       "0.6363636363636364"
      ]
     },
     "execution_count": 23,
     "metadata": {},
     "output_type": "execute_result"
    }
   ],
   "source": [
    "from sklearn.metrics import accuracy_score\n",
    "\n",
    "accuracy_score(y_test, y_pred)"
   ]
  },
  {
   "cell_type": "code",
   "execution_count": 24,
   "metadata": {},
   "outputs": [],
   "source": [
    "imposter_class = clients.shape[0]\n",
    "\n",
    "fp = np.logical_and(y_pred != imposter_class, y_pred != y_test)\n",
    "fp = np.where(fp)[0].shape[0]\n",
    "\n",
    "fn = np.logical_and(y_pred == imposter_class, y_test != imposter_class)\n",
    "fn = np.where(fn)[0].shape[0]\n",
    "\n",
    "cnt = y_test.shape[0]\n",
    "far = fp / cnt\n",
    "frr = fn / cnt"
   ]
  },
  {
   "cell_type": "code",
   "execution_count": 25,
   "metadata": {},
   "outputs": [],
   "source": [
    "#import bob.measure #doesn't work on windows"
   ]
  },
  {
   "cell_type": "code",
   "execution_count": 26,
   "metadata": {},
   "outputs": [
    {
     "name": "stdout",
     "output_type": "stream",
     "text": [
      "0.0 0.36363636363636365\n"
     ]
    }
   ],
   "source": [
    "print (far, frr)"
   ]
  },
  {
   "cell_type": "code",
   "execution_count": null,
   "metadata": {},
   "outputs": [],
   "source": [
    "from sklearn.model_selection import GridSearchCV\n",
    "\n",
    "param_grid = [\n",
    "  {'C': [0.01, 1, 100], 'gamma': [100, 1, 0.1, 0.001], 'kernel': ['rbf']},\n",
    "]\n",
    "\n",
    "clf = GridSearchCV(SVC(), param_grid)\n",
    "clf.fit(X_train, y_train)"
   ]
  },
  {
   "cell_type": "code",
   "execution_count": 15,
   "metadata": {},
   "outputs": [
    {
     "ename": "AttributeError",
     "evalue": "'GridSearchCV' object has no attribute 'best_params_'",
     "output_type": "error",
     "traceback": [
      "\u001b[1;31m---------------------------------------------------------------------------\u001b[0m",
      "\u001b[1;31mAttributeError\u001b[0m                            Traceback (most recent call last)",
      "\u001b[1;32m<ipython-input-15-9772bec5683a>\u001b[0m in \u001b[0;36m<module>\u001b[1;34m\u001b[0m\n\u001b[1;32m----> 1\u001b[1;33m \u001b[0mclf\u001b[0m\u001b[1;33m.\u001b[0m\u001b[0mbest_params_\u001b[0m\u001b[1;33m\u001b[0m\u001b[1;33m\u001b[0m\u001b[0m\n\u001b[0m",
      "\u001b[1;31mAttributeError\u001b[0m: 'GridSearchCV' object has no attribute 'best_params_'"
     ]
    }
   ],
   "source": [
    "clf.best_params_"
   ]
  },
  {
   "cell_type": "code",
   "execution_count": 16,
   "metadata": {},
   "outputs": [
    {
     "ename": "AttributeError",
     "evalue": "'GridSearchCV' object has no attribute 'cv_results_'",
     "output_type": "error",
     "traceback": [
      "\u001b[1;31m---------------------------------------------------------------------------\u001b[0m",
      "\u001b[1;31mAttributeError\u001b[0m                            Traceback (most recent call last)",
      "\u001b[1;32m<ipython-input-16-8de6e5dbc6ed>\u001b[0m in \u001b[0;36m<module>\u001b[1;34m\u001b[0m\n\u001b[1;32m----> 1\u001b[1;33m \u001b[0mclf\u001b[0m\u001b[1;33m.\u001b[0m\u001b[0mcv_results_\u001b[0m\u001b[1;33m\u001b[0m\u001b[1;33m\u001b[0m\u001b[0m\n\u001b[0m",
      "\u001b[1;31mAttributeError\u001b[0m: 'GridSearchCV' object has no attribute 'cv_results_'"
     ]
    }
   ],
   "source": [
    "clf.cv_results_"
   ]
  },
  {
   "cell_type": "code",
   "execution_count": null,
   "metadata": {},
   "outputs": [],
   "source": []
  }
 ],
 "metadata": {
  "kernelspec": {
   "display_name": "Python 3",
   "language": "python",
   "name": "python3"
  },
  "language_info": {
   "codemirror_mode": {
    "name": "ipython",
    "version": 3
   },
   "file_extension": ".py",
   "mimetype": "text/x-python",
   "name": "python",
   "nbconvert_exporter": "python",
   "pygments_lexer": "ipython3",
   "version": "3.7.3"
  }
 },
 "nbformat": 4,
 "nbformat_minor": 2
}
