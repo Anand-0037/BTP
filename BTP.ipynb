{
 "cells": [
  {
   "cell_type": "code",
   "execution_count": 27,
   "metadata": {},
   "outputs": [],
   "source": [
    "import pandas as pd\n",
    "import numpy as np\n",
    "import matplotlib.pyplot as plt\n",
    "%matplotlib inline"
   ]
  },
  {
   "cell_type": "code",
   "execution_count": 28,
   "metadata": {},
   "outputs": [],
   "source": [
    "train_list_file = 'SFootBD/IndexFiles/LstTrain'"
   ]
  },
  {
   "cell_type": "code",
   "execution_count": 29,
   "metadata": {},
   "outputs": [],
   "source": [
    "train_list = pd.read_csv(train_list_file, sep = ' ', header = None)"
   ]
  },
  {
   "cell_type": "code",
   "execution_count": 42,
   "metadata": {},
   "outputs": [],
   "source": [
    "import os\n",
    "import scipy.io\n",
    "\n",
    "mat_file = os.path.join('SFootBD/SFootBD', train_list[1][0] + '.mat')\n",
    "\n",
    "mat = scipy.io.loadmat(mat_file)"
   ]
  },
  {
   "cell_type": "code",
   "execution_count": 43,
   "metadata": {},
   "outputs": [],
   "source": [
    "import scipy.signal\n",
    "\n",
    "def foot_reshape(arr):\n",
    "    arr = np.append(arr, np.zeros((arr.shape[0], 3)), axis = 1)\n",
    "    \n",
    "    return np.reshape(arr, (arr.shape[0], 13, 7))\n",
    "\n",
    "def prepare_data(matrix):\n",
    "    dataL = foot_reshape(mat['dataL'])\n",
    "    dataR = foot_reshape(mat['dataR'])\n",
    "    \n",
    "    data = np.append(dataL, dataR, axis = 2)\n",
    "    \n",
    "    # Downsample using order 8 Chebyshev type I filter\n",
    "    #data = scipy.signal.decimate(data, 6, axis = 0)\n",
    "    \n",
    "    return data"
   ]
  },
  {
   "cell_type": "code",
   "execution_count": 44,
   "metadata": {},
   "outputs": [
    {
     "name": "stdout",
     "output_type": "stream",
     "text": [
      "(2200L, 13L, 14L)\n"
     ]
    }
   ],
   "source": [
    "data = prepare_data(mat)\n",
    "\n",
    "print data.shape"
   ]
  },
  {
   "cell_type": "code",
   "execution_count": 45,
   "metadata": {},
   "outputs": [
    {
     "data": {
      "text/plain": [
       "(13L, 14L)"
      ]
     },
     "execution_count": 45,
     "metadata": {},
     "output_type": "execute_result"
    }
   ],
   "source": [
    "Tmax = 1600\n",
    "\n",
    "spatial = data[:Tmax]\n",
    "\n",
    "spatial = np.sum(np.abs(spatial), axis = 0)\n",
    "\n",
    "spatial.shape"
   ]
  },
  {
   "cell_type": "code",
   "execution_count": 46,
   "metadata": {},
   "outputs": [
    {
     "data": {
      "text/plain": [
       "<matplotlib.axes._subplots.AxesSubplot at 0xec50860>"
      ]
     },
     "execution_count": 46,
     "metadata": {},
     "output_type": "execute_result"
    },
    {
     "data": {
      "image/png": "[encoded data removed]",
      "text/plain": [
       "<Figure size 432x288 with 2 Axes>"
      ]
     },
     "metadata": {},
     "output_type": "display_data"
    }
   ],
   "source": [
    "import seaborn as sns\n",
    "\n",
    "sns.heatmap(spatial)"
   ]
  },
  {
   "cell_type": "code",
   "execution_count": null,
   "metadata": {},
   "outputs": [],
   "source": []
  }
 ],
 "metadata": {
  "kernelspec": {
   "display_name": "Python 2",
   "language": "python",
   "name": "python2"
  },
  "language_info": {
   "codemirror_mode": {
    "name": "ipython",
    "version": 2
   },
   "file_extension": ".py",
   "mimetype": "text/x-python",
   "name": "python",
   "nbconvert_exporter": "python",
   "pygments_lexer": "ipython2",
   "version": "2.7.15"
  }
 },
 "nbformat": 4,
 "nbformat_minor": 2
}
